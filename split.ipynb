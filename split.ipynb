{
 "cells": [
  {
   "cell_type": "code",
   "execution_count": 7,
   "metadata": {},
   "outputs": [
    {
     "data": {
      "text/plain": [
       "(   Release Year                             Title Origin/Ethnicity  \\\n",
       " 0          1901            Kansas Saloon Smashers         American   \n",
       " 1          1901     Love by the Light of the Moon         American   \n",
       " 2          1901           The Martyred Presidents         American   \n",
       " 3          1901  Terrible Teddy, the Grizzly King         American   \n",
       " 4          1902            Jack and the Beanstalk         American   \n",
       " \n",
       "                              Director Cast    Genre  \\\n",
       " 0                             Unknown  NaN  unknown   \n",
       " 1                             Unknown  NaN  unknown   \n",
       " 2                             Unknown  NaN  unknown   \n",
       " 3                             Unknown  NaN  unknown   \n",
       " 4  George S. Fleming, Edwin S. Porter  NaN  unknown   \n",
       " \n",
       "                                            Wiki Page  \\\n",
       " 0  https://en.wikipedia.org/wiki/Kansas_Saloon_Sm...   \n",
       " 1  https://en.wikipedia.org/wiki/Love_by_the_Ligh...   \n",
       " 2  https://en.wikipedia.org/wiki/The_Martyred_Pre...   \n",
       " 3  https://en.wikipedia.org/wiki/Terrible_Teddy,_...   \n",
       " 4  https://en.wikipedia.org/wiki/Jack_and_the_Bea...   \n",
       " \n",
       "                                                 Plot  \n",
       " 0  A bartender is working at a saloon, serving dr...  \n",
       " 1  The moon, painted with a smiling face hangs ov...  \n",
       " 2  The film, just over a minute long, is composed...  \n",
       " 3  Lasting just 61 seconds and consisting of two ...  \n",
       " 4  The earliest known adaptation of the classic f...  ,\n",
       " Index(['Release Year', 'Title', 'Origin/Ethnicity', 'Director', 'Cast',\n",
       "        'Genre', 'Wiki Page', 'Plot'],\n",
       "       dtype='object'))"
      ]
     },
     "execution_count": 7,
     "metadata": {},
     "output_type": "execute_result"
    }
   ],
   "source": [
    "import pandas as pd\n",
    "\n",
    "# Load the dataset to check its structure and first few rows\n",
    "file_path = 'd:/Master/Sem I/Practical Machine Learning/DatasetMoviePlots/wiki_movie_plots_deduped.csv'\n",
    "data = pd.read_csv(file_path)\n",
    "\n",
    "# Display the first few rows and column names\n",
    "data.head(), data.columns"
   ]
  },
  {
   "cell_type": "code",
   "execution_count": null,
   "metadata": {},
   "outputs": [
    {
     "name": "stderr",
     "output_type": "stream",
     "text": [
      "<>:7: SyntaxWarning: invalid escape sequence '\\M'\n",
      "<>:7: SyntaxWarning: invalid escape sequence '\\M'\n",
      "C:\\Users\\User\\AppData\\Local\\Temp\\ipykernel_8784\\2107715534.py:7: SyntaxWarning: invalid escape sequence '\\M'\n",
      "  cleaned_file_path = 'D:\\Master\\Sem I\\Practical Machine Learning\\MoviePlotsGenre\\date\\cleaned_dataaaaa.csv'\n"
     ]
    }
   ],
   "source": [
    "import os\n",
    "\n",
    "# Remove rows with any missing values\n",
    "cleaned_data = data.dropna()\n",
    "\n",
    "# Ensure the directory exists\n",
    "cleaned_file_path = 'D:\\Master\\Sem I\\Practical Machine Learning\\MoviePlotsGenre\\date\\cleaned_data.csv'\n",
    "os.makedirs(os.path.dirname(cleaned_file_path), exist_ok=True)\n",
    "\n",
    "# Save the cleaned dataset to a new file\n",
    "cleaned_data.to_csv(cleaned_file_path, index=False)\n"
   ]
  },
  {
   "cell_type": "code",
   "execution_count": 11,
   "metadata": {},
   "outputs": [
    {
     "name": "stdout",
     "output_type": "stream",
     "text": [
      "Release Year           0\n",
      "Title                  0\n",
      "Origin/Ethnicity       0\n",
      "Director               0\n",
      "Cast                1422\n",
      "Genre                  0\n",
      "Wiki Page              0\n",
      "Plot                   0\n",
      "dtype: int64\n"
     ]
    }
   ],
   "source": [
    "missing_values = data.isnull().sum()\n",
    "print(missing_values)\n"
   ]
  },
  {
   "cell_type": "code",
   "execution_count": 12,
   "metadata": {},
   "outputs": [
    {
     "name": "stdout",
     "output_type": "stream",
     "text": [
      "Original data dimensions: (34886, 8)\n",
      "Cleaned data dimensions: (33464, 8)\n"
     ]
    }
   ],
   "source": [
    "print(f\"Original data dimensions: {data.shape}\")\n",
    "print(f\"Cleaned data dimensions: {cleaned_data.shape}\")\n"
   ]
  },
  {
   "cell_type": "code",
   "execution_count": 13,
   "metadata": {},
   "outputs": [
    {
     "name": "stdout",
     "output_type": "stream",
     "text": [
      "       Release Year                             Title Origin/Ethnicity  \\\n",
      "0              1901            Kansas Saloon Smashers         American   \n",
      "1              1901     Love by the Light of the Moon         American   \n",
      "2              1901           The Martyred Presidents         American   \n",
      "3              1901  Terrible Teddy, the Grizzly King         American   \n",
      "4              1902            Jack and the Beanstalk         American   \n",
      "...             ...                               ...              ...   \n",
      "34829          2009                   Karanliktakiler          Turkish   \n",
      "34830          2009                               Acı          Turkish   \n",
      "34833          2009                    The Watercolor          Turkish   \n",
      "34836          2009                             Orada          Turkish   \n",
      "34846          2010            Lost Songs of Anatolia          Turkish   \n",
      "\n",
      "                                 Director Cast        Genre  \\\n",
      "0                                 Unknown  NaN      unknown   \n",
      "1                                 Unknown  NaN      unknown   \n",
      "2                                 Unknown  NaN      unknown   \n",
      "3                                 Unknown  NaN      unknown   \n",
      "4      George S. Fleming, Edwin S. Porter  NaN      unknown   \n",
      "...                                   ...  ...          ...   \n",
      "34829                         Çağan Irmak  NaN        drama   \n",
      "34830                             Unknown  NaN      unknown   \n",
      "34833                    Cihat Hazardagli  NaN    animation   \n",
      "34836                             Unknown  NaN      unknown   \n",
      "34846                          Nezih Ünen  NaN  documentary   \n",
      "\n",
      "                                               Wiki Page  \\\n",
      "0      https://en.wikipedia.org/wiki/Kansas_Saloon_Sm...   \n",
      "1      https://en.wikipedia.org/wiki/Love_by_the_Ligh...   \n",
      "2      https://en.wikipedia.org/wiki/The_Martyred_Pre...   \n",
      "3      https://en.wikipedia.org/wiki/Terrible_Teddy,_...   \n",
      "4      https://en.wikipedia.org/wiki/Jack_and_the_Bea...   \n",
      "...                                                  ...   \n",
      "34829      https://en.wikipedia.org/wiki/Karanliktakiler   \n",
      "34830      https://en.wikipedia.org/wiki/The_Pain_(film)   \n",
      "34833       https://en.wikipedia.org/wiki/The_Watercolor   \n",
      "34836                https://en.wikipedia.org/wiki/Orada   \n",
      "34846  https://en.wikipedia.org/wiki/Lost_Songs_of_An...   \n",
      "\n",
      "                                                    Plot  \n",
      "0      A bartender is working at a saloon, serving dr...  \n",
      "1      The moon, painted with a smiling face hangs ov...  \n",
      "2      The film, just over a minute long, is composed...  \n",
      "3      Lasting just 61 seconds and consisting of two ...  \n",
      "4      The earliest known adaptation of the classic f...  \n",
      "...                                                  ...  \n",
      "34829  Egemen is an advertising agency clerk in his t...  \n",
      "34830  Nesrin is a young girl fighting for freedom, w...  \n",
      "34833  Twelve-year-old Marco has an exclusive talent ...  \n",
      "34836  When the matriarch of an Istanbul family dies ...  \n",
      "34846  A musical journey among the many historic plac...  \n",
      "\n",
      "[1422 rows x 8 columns]\n"
     ]
    }
   ],
   "source": [
    "removed_rows = data[~data.index.isin(cleaned_data.index)]\n",
    "print(removed_rows)\n"
   ]
  },
  {
   "cell_type": "code",
   "execution_count": 16,
   "metadata": {},
   "outputs": [
    {
     "name": "stdout",
     "output_type": "stream",
     "text": [
      "Train size: 26771 rows\n",
      "Validation size: 3346 rows\n",
      "Test size: 3347 rows\n"
     ]
    }
   ],
   "source": [
    "import pandas as pd\n",
    "from sklearn.model_selection import train_test_split\n",
    "\n",
    "# Load the cleaned data\n",
    "cleaned_file_path = 'D:/Master/Sem I/Practical Machine Learning/MoviePlotsGenre/date/cleaned_data.csv'\n",
    "data = pd.read_csv(cleaned_file_path)\n",
    "\n",
    "# Step 1: Split into 80% train and 20% temp (validation + test)\n",
    "train_data, temp_data = train_test_split(data, test_size=0.2, random_state=42)\n",
    "\n",
    "# Step 2: Split the temp data into 50% validation and 50% test (10% each of the total data)\n",
    "val_data, test_data = train_test_split(temp_data, test_size=0.5, random_state=42)\n",
    "\n",
    "# Verify the sizes\n",
    "print(f\"Train size: {len(train_data)} rows\")\n",
    "print(f\"Validation size: {len(val_data)} rows\")\n",
    "print(f\"Test size: {len(test_data)} rows\")\n",
    "\n",
    "# Optionally save the splits to CSV files\n",
    "train_data.to_csv('D:/Master/Sem I/Practical Machine Learning/MoviePlotsGenre/date/train_data.csv', index=False)\n",
    "val_data.to_csv('D:/Master/Sem I/Practical Machine Learning/MoviePlotsGenre/date/val_data.csv', index=False)\n",
    "test_data.to_csv('D:/Master/Sem I/Practical Machine Learning/MoviePlotsGenre/date/test_data.csv', index=False)\n"
   ]
  }
 ],
 "metadata": {
  "kernelspec": {
   "display_name": "Python 3",
   "language": "python",
   "name": "python3"
  },
  "language_info": {
   "codemirror_mode": {
    "name": "ipython",
    "version": 3
   },
   "file_extension": ".py",
   "mimetype": "text/x-python",
   "name": "python",
   "nbconvert_exporter": "python",
   "pygments_lexer": "ipython3",
   "version": "3.12.7"
  }
 },
 "nbformat": 4,
 "nbformat_minor": 2
}
