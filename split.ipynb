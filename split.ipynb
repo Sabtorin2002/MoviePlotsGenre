{
 "cells": [
  {
   "cell_type": "code",
   "execution_count": 17,
   "metadata": {},
   "outputs": [],
   "source": [
    "import pandas as pd\n",
    "import os\n",
    "\n",
    "# Load the dataset\n",
    "file_path = r'D:/Master/Sem I/Practical Machine Learning/DatasetMoviePlots/wiki_movie_plots_deduped.csv'\n",
    "data = pd.read_csv(file_path)\n",
    "\n",
    "# Remove rows where Genre is \"unknown\"\n",
    "data_filtered = data[data['Genre'] != \"unknown\"]\n",
    "\n",
    "# Remove rows where Plot is missing\n",
    "data_filtered = data_filtered.dropna(subset=['Plot'])\n",
    "\n",
    "# Remove rows where Genre is missing\n",
    "data_filtered = data_filtered.dropna(subset=['Genre'])\n",
    "\n",
    "# Remove rows where Director is \"unknown\"\n",
    "data_filtered = data_filtered[data_filtered['Director'] != \"unknown\"]\n",
    "\n",
    "# Remove rows where Cast is \"unknown\"\n",
    "data_filtered = data_filtered[data_filtered['Cast'] != \"unknown\"]\n",
    "\n",
    "\n",
    "# Remove rows with missing values\n",
    "cleaned_data = data_filtered.dropna()\n",
    "\n",
    "# Define the output file path\n",
    "cleaned_file_path = r'D:/Master/Sem I/Practical Machine Learning/MoviePlotsGenre/date/cleaned_data.csv'\n",
    "\n",
    "# Ensure the output directory exists\n",
    "os.makedirs(os.path.dirname(cleaned_file_path), exist_ok=True)\n",
    "\n",
    "# Save the cleaned dataset to a new file\n",
    "cleaned_data.to_csv(cleaned_file_path, index=False)\n",
    "\n",
    "\n"
   ]
  },
  {
   "cell_type": "code",
   "execution_count": 18,
   "metadata": {},
   "outputs": [
    {
     "name": "stdout",
     "output_type": "stream",
     "text": [
      "Release Year           0\n",
      "Title                  0\n",
      "Origin/Ethnicity       0\n",
      "Director               0\n",
      "Cast                1422\n",
      "Genre                  0\n",
      "Wiki Page              0\n",
      "Plot                   0\n",
      "dtype: int64\n"
     ]
    }
   ],
   "source": [
    "missing_values = data.isnull().sum()\n",
    "print(missing_values)\n"
   ]
  },
  {
   "cell_type": "code",
   "execution_count": 19,
   "metadata": {},
   "outputs": [
    {
     "name": "stdout",
     "output_type": "stream",
     "text": [
      "Original data dimensions: (34886, 8)\n",
      "Cleaned data dimensions: (28064, 8)\n"
     ]
    }
   ],
   "source": [
    "print(f\"Original data dimensions: {data.shape}\")\n",
    "print(f\"Cleaned data dimensions: {cleaned_data.shape}\")\n"
   ]
  },
  {
   "cell_type": "code",
   "execution_count": 20,
   "metadata": {},
   "outputs": [
    {
     "name": "stdout",
     "output_type": "stream",
     "text": [
      "       Release Year                             Title Origin/Ethnicity  \\\n",
      "0              1901            Kansas Saloon Smashers         American   \n",
      "1              1901     Love by the Light of the Moon         American   \n",
      "2              1901           The Martyred Presidents         American   \n",
      "3              1901  Terrible Teddy, the Grizzly King         American   \n",
      "4              1902            Jack and the Beanstalk         American   \n",
      "...             ...                               ...              ...   \n",
      "34846          2010            Lost Songs of Anatolia          Turkish   \n",
      "34878          2014                  Mandıra Filozofu          Turkish   \n",
      "34879          2014                      Winter Sleep          Turkish   \n",
      "34880          2014                             Sivas          Turkish   \n",
      "34881          2014                 The Water Diviner          Turkish   \n",
      "\n",
      "                                 Director  \\\n",
      "0                                 Unknown   \n",
      "1                                 Unknown   \n",
      "2                                 Unknown   \n",
      "3                                 Unknown   \n",
      "4      George S. Fleming, Edwin S. Porter   \n",
      "...                                   ...   \n",
      "34846                          Nezih Ünen   \n",
      "34878         Director: Müfit Can Saçıntı   \n",
      "34879         Director: Nuri Bilge Ceylan   \n",
      "34880              Director: Kaan Müjdeci   \n",
      "34881             Director: Russell Crowe   \n",
      "\n",
      "                                                    Cast        Genre  \\\n",
      "0                                                    NaN      unknown   \n",
      "1                                                    NaN      unknown   \n",
      "2                                                    NaN      unknown   \n",
      "3                                                    NaN      unknown   \n",
      "4                                                    NaN      unknown   \n",
      "...                                                  ...          ...   \n",
      "34846                                                NaN  documentary   \n",
      "34878  Director: Müfit Can Saçıntı\\r\\nCast: Rasim Özt...      unknown   \n",
      "34879  Director: Nuri Bilge Ceylan\\r\\nCast: Haluk Bil...      unknown   \n",
      "34880         Director: Kaan Müjdeci\\r\\nCast: Dogan Izci      unknown   \n",
      "34881  Director: Russell Crowe\\r\\nCast: Russell Crowe...      unknown   \n",
      "\n",
      "                                               Wiki Page  \\\n",
      "0      https://en.wikipedia.org/wiki/Kansas_Saloon_Sm...   \n",
      "1      https://en.wikipedia.org/wiki/Love_by_the_Ligh...   \n",
      "2      https://en.wikipedia.org/wiki/The_Martyred_Pre...   \n",
      "3      https://en.wikipedia.org/wiki/Terrible_Teddy,_...   \n",
      "4      https://en.wikipedia.org/wiki/Jack_and_the_Bea...   \n",
      "...                                                  ...   \n",
      "34846  https://en.wikipedia.org/wiki/Lost_Songs_of_An...   \n",
      "34878  https://en.wikipedia.org/wiki/Mand%C4%B1ra_Fil...   \n",
      "34879  https://en.wikipedia.org/wiki/Winter_Sleep_(film)   \n",
      "34880         https://en.wikipedia.org/wiki/Sivas_(film)   \n",
      "34881    https://en.wikipedia.org/wiki/The_Water_Diviner   \n",
      "\n",
      "                                                    Plot  \n",
      "0      A bartender is working at a saloon, serving dr...  \n",
      "1      The moon, painted with a smiling face hangs ov...  \n",
      "2      The film, just over a minute long, is composed...  \n",
      "3      Lasting just 61 seconds and consisting of two ...  \n",
      "4      The earliest known adaptation of the classic f...  \n",
      "...                                                  ...  \n",
      "34846  A musical journey among the many historic plac...  \n",
      "34878  Cavit an ambitious industralist in İstanbul pl...  \n",
      "34879  Aydın, a former actor, owns a mountaintop hote...  \n",
      "34880  The film follows an eleven-year-old boy named ...  \n",
      "34881  The film begins in 1919, just after World War ...  \n",
      "\n",
      "[6822 rows x 8 columns]\n"
     ]
    }
   ],
   "source": [
    "removed_rows = data[~data.index.isin(cleaned_data.index)]\n",
    "print(removed_rows)\n"
   ]
  },
  {
   "cell_type": "code",
   "execution_count": 21,
   "metadata": {},
   "outputs": [
    {
     "name": "stdout",
     "output_type": "stream",
     "text": [
      "Genre\n",
      "unknown                          6083\n",
      "drama                            5964\n",
      "comedy                           4379\n",
      "horror                           1167\n",
      "action                           1098\n",
      "                                 ... \n",
      "cbc-tv miniseries                   1\n",
      "bio-drama                           1\n",
      "national film board docudrama       1\n",
      "cult drama                          1\n",
      "horror romantic comedy              1\n",
      "Name: count, Length: 2265, dtype: int64\n"
     ]
    }
   ],
   "source": [
    "#how many genres do i have in my dataset\n",
    "genre_counts = data['Genre'].value_counts()\n",
    "print(genre_counts)"
   ]
  },
  {
   "cell_type": "code",
   "execution_count": 23,
   "metadata": {},
   "outputs": [
    {
     "name": "stdout",
     "output_type": "stream",
     "text": [
      "28064 14272\n"
     ]
    }
   ],
   "source": [
    "# Count the occurrences of each genre\n",
    "genre_counts = cleaned_data['Genre'].value_counts()\n",
    "\n",
    "# Filter genres that have at least 500 occurrences\n",
    "valid_genres = genre_counts[genre_counts >= 900].index\n",
    "\n",
    "# Eliminate rows where the genre count is below 500\n",
    "data_filtered = cleaned_data[cleaned_data['Genre'].isin(valid_genres)]\n",
    "\n",
    "# Display the number of rows before and after filtering\n",
    "before_filtering = cleaned_data.shape[0]\n",
    "after_filtering = data_filtered.shape[0]\n",
    "\n",
    "print(before_filtering, after_filtering)\n",
    "\n"
   ]
  },
  {
   "cell_type": "code",
   "execution_count": 24,
   "metadata": {},
   "outputs": [
    {
     "name": "stdout",
     "output_type": "stream",
     "text": [
      "14272\n"
     ]
    }
   ],
   "source": [
    "\n",
    "cleaned_data = data_filtered\n",
    "print(cleaned_data.shape[0])\n"
   ]
  },
  {
   "cell_type": "code",
   "execution_count": 25,
   "metadata": {},
   "outputs": [],
   "source": [
    "cleaned_data.to_csv('D:/Master/Sem I/Practical Machine Learning/MoviePlotsGenre/date/clean_data_filtered.csv',index=False)"
   ]
  },
  {
   "cell_type": "code",
   "execution_count": 26,
   "metadata": {},
   "outputs": [
    {
     "name": "stderr",
     "output_type": "stream",
     "text": [
      "<>:5: SyntaxWarning: invalid escape sequence '\\M'\n",
      "<>:5: SyntaxWarning: invalid escape sequence '\\M'\n",
      "C:\\Users\\User\\AppData\\Local\\Temp\\ipykernel_15316\\3946323776.py:5: SyntaxWarning: invalid escape sequence '\\M'\n",
      "  file_path = 'D:\\Master\\Sem I\\Practical Machine Learning\\MoviePlotsGenre\\date\\clean_data_filtered.csv'  # Update this path as needed\n"
     ]
    },
    {
     "name": "stdout",
     "output_type": "stream",
     "text": [
      "   Release Year                            Title Origin/Ethnicity  \\\n",
      "0          1907  How Brown Saw the Baseball Game         American   \n",
      "1          1907                     Laughing Gas         American   \n",
      "2          1908         The Adventures of Dollie         American   \n",
      "3          1908                  The Black Viper         American   \n",
      "4          1908           A Calamitous Elopement         American   \n",
      "\n",
      "               Director                               Cast   Genre  \\\n",
      "0               Unknown                            Unknown  comedy   \n",
      "1  Edwin Stanton Porter    Bertha Regustus, Edward Boulden  comedy   \n",
      "2        D. W. Griffith  Arthur V. Johnson, Linda Arvidson   drama   \n",
      "3        D. W. Griffith                     D. W. Griffith   drama   \n",
      "4         D.W. Griffith       Harry Solter, Linda Arvidson  comedy   \n",
      "\n",
      "                                           Wiki Page  \\\n",
      "0  https://en.wikipedia.org/wiki/How_Brown_Saw_th...   \n",
      "1  https://en.wikipedia.org/wiki/Laughing_Gas_(fi...   \n",
      "2  https://en.wikipedia.org/wiki/The_Adventures_o...   \n",
      "3      https://en.wikipedia.org/wiki/The_Black_Viper   \n",
      "4  https://en.wikipedia.org/wiki/A_Calamitous_Elo...   \n",
      "\n",
      "                                                Plot  \n",
      "0  Before heading out to a baseball game at a nea...  \n",
      "1  The plot is that of a black woman going to the...  \n",
      "2  On a beautiful summer day a father and mother ...  \n",
      "3  A thug accosts a girl as she leaves her workpl...  \n",
      "4  A young couple decides to elope after being ca...  \n",
      "Training set size: 11417 rows\n",
      "Validation set size: 1427 rows\n",
      "Test set size: 1428 rows\n"
     ]
    }
   ],
   "source": [
    "import pandas as pd\n",
    "from sklearn.model_selection import train_test_split\n",
    "\n",
    "# Load the dataset\n",
    "file_path = 'D:\\Master\\Sem I\\Practical Machine Learning\\MoviePlotsGenre\\date\\clean_data_filtered.csv'  # Update this path as needed\n",
    "data = pd.read_csv(file_path)\n",
    "\n",
    "# Display the first few rows of the dataset\n",
    "print(data.head())\n",
    "\n",
    "# Split the dataset into 80% train and 20% (validation + test)\n",
    "train_data, temp_data = train_test_split(data, test_size=0.2, random_state=42)\n",
    "\n",
    "# Further split the 20% (temp_data) into 10% validation and 10% test\n",
    "val_data, test_data = train_test_split(temp_data, test_size=0.5, random_state=42)\n",
    "\n",
    "# Verify the sizes of each split\n",
    "print(f\"Training set size: {len(train_data)} rows\")\n",
    "print(f\"Validation set size: {len(val_data)} rows\")\n",
    "print(f\"Test set size: {len(test_data)} rows\")\n",
    "\n",
    "\n",
    "train_data.to_csv('date/train_data.csv', index=False)\n",
    "val_data.to_csv('date/val_data.csv', index=False)\n",
    "test_data.to_csv('date/test_data.csv', index=False)\n"
   ]
  }
 ],
 "metadata": {
  "kernelspec": {
   "display_name": "Python 3",
   "language": "python",
   "name": "python3"
  },
  "language_info": {
   "codemirror_mode": {
    "name": "ipython",
    "version": 3
   },
   "file_extension": ".py",
   "mimetype": "text/x-python",
   "name": "python",
   "nbconvert_exporter": "python",
   "pygments_lexer": "ipython3",
   "version": "3.12.7"
  }
 },
 "nbformat": 4,
 "nbformat_minor": 2
}
